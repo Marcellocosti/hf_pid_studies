{
 "cells": [
  {
   "cell_type": "code",
   "execution_count": 10,
   "metadata": {},
   "outputs": [],
   "source": [
    "import matplotlib.pyplot as plt\n",
    "import pandas as pd"
   ]
  },
  {
   "cell_type": "code",
   "execution_count": 11,
   "metadata": {},
   "outputs": [],
   "source": [
    "df_neg_pi_mc = pd.read_parquet(\"/home/mdicosta/hf_pid_studies/distributions/neg_pi_eff_df_mc.parquet\", engine=\"pyarrow\") \n",
    "df_pos_pi_mc = pd.read_parquet(\"/home/mdicosta/hf_pid_studies/distributions/pos_pi_eff_df_mc.parquet\", engine=\"pyarrow\") \n",
    "df_neg_pi = pd.read_parquet(\"/home/mdicosta/hf_pid_studies/distributions/neg_pi_eff_df.parquet\", engine=\"pyarrow\") \n",
    "df_pos_pi = pd.read_parquet(\"/home/mdicosta/hf_pid_studies/distributions/pos_pi_eff_df.parquet\", engine=\"pyarrow\") "
   ]
  },
  {
   "cell_type": "code",
   "execution_count": 12,
   "metadata": {},
   "outputs": [
    {
     "data": {
      "text/plain": [
       "Index(['fCentralityFT0C', 'fOccupancyFt0c', 'fPt', 'fNSigmaTpcPosPi',\n",
       "       'fNSigmaTpcNegPi', 'fNSigmaTofPosPi', 'fNSigmaTofNegPi',\n",
       "       'fNSigmaTpcPosPi_unc', 'fNSigmaTpcNegPi_unc', 'fNSigmaTofPosPi_unc',\n",
       "       'fNSigmaTofNegPi_unc'],\n",
       "      dtype='object')"
      ]
     },
     "execution_count": 12,
     "metadata": {},
     "output_type": "execute_result"
    }
   ],
   "source": [
    "df_neg_pi_mc.columns"
   ]
  },
  {
   "cell_type": "code",
   "execution_count": 13,
   "metadata": {},
   "outputs": [
    {
     "data": {
      "text/html": [
       "<div>\n",
       "<style scoped>\n",
       "    .dataframe tbody tr th:only-of-type {\n",
       "        vertical-align: middle;\n",
       "    }\n",
       "\n",
       "    .dataframe tbody tr th {\n",
       "        vertical-align: top;\n",
       "    }\n",
       "\n",
       "    .dataframe thead th {\n",
       "        text-align: right;\n",
       "    }\n",
       "</style>\n",
       "<table border=\"1\" class=\"dataframe\">\n",
       "  <thead>\n",
       "    <tr style=\"text-align: right;\">\n",
       "      <th></th>\n",
       "      <th>fCentralityFT0C</th>\n",
       "      <th>fOccupancyFt0c</th>\n",
       "      <th>fPt</th>\n",
       "      <th>fNSigmaTpcPosPi</th>\n",
       "      <th>fNSigmaTpcNegPi</th>\n",
       "      <th>fNSigmaTofPosPi</th>\n",
       "      <th>fNSigmaTofNegPi</th>\n",
       "      <th>fNSigmaTpcPosPi_unc</th>\n",
       "      <th>fNSigmaTpcNegPi_unc</th>\n",
       "      <th>fNSigmaTofPosPi_unc</th>\n",
       "      <th>fNSigmaTofNegPi_unc</th>\n",
       "    </tr>\n",
       "  </thead>\n",
       "  <tbody>\n",
       "    <tr>\n",
       "      <th>1</th>\n",
       "      <td>[0, 50)</td>\n",
       "      <td>[0, 999999)</td>\n",
       "      <td>[1.0, 2.0)</td>\n",
       "      <td>0.062063</td>\n",
       "      <td>0.081077</td>\n",
       "      <td>0.682787</td>\n",
       "      <td>0.682537</td>\n",
       "      <td>0.000118</td>\n",
       "      <td>0.000134</td>\n",
       "      <td>0.000228</td>\n",
       "      <td>0.000228</td>\n",
       "    </tr>\n",
       "    <tr>\n",
       "      <th>2</th>\n",
       "      <td>[50, 100)</td>\n",
       "      <td>[0, 999999)</td>\n",
       "      <td>[1.0, 2.0)</td>\n",
       "      <td>0.044643</td>\n",
       "      <td>0.064918</td>\n",
       "      <td>0.683492</td>\n",
       "      <td>0.683135</td>\n",
       "      <td>0.000409</td>\n",
       "      <td>0.000488</td>\n",
       "      <td>0.000921</td>\n",
       "      <td>0.000921</td>\n",
       "    </tr>\n",
       "  </tbody>\n",
       "</table>\n",
       "</div>"
      ],
      "text/plain": [
       "  fCentralityFT0C fOccupancyFt0c         fPt  fNSigmaTpcPosPi  \\\n",
       "1         [0, 50)    [0, 999999)  [1.0, 2.0)         0.062063   \n",
       "2       [50, 100)    [0, 999999)  [1.0, 2.0)         0.044643   \n",
       "\n",
       "   fNSigmaTpcNegPi  fNSigmaTofPosPi  fNSigmaTofNegPi  fNSigmaTpcPosPi_unc  \\\n",
       "1         0.081077         0.682787         0.682537             0.000118   \n",
       "2         0.064918         0.683492         0.683135             0.000409   \n",
       "\n",
       "   fNSigmaTpcNegPi_unc  fNSigmaTofPosPi_unc  fNSigmaTofNegPi_unc  \n",
       "1             0.000134             0.000228             0.000228  \n",
       "2             0.000488             0.000921             0.000921  "
      ]
     },
     "execution_count": 13,
     "metadata": {},
     "output_type": "execute_result"
    }
   ],
   "source": [
    "df_neg_pi_mc"
   ]
  },
  {
   "cell_type": "code",
   "execution_count": 16,
   "metadata": {},
   "outputs": [
    {
     "data": {
      "text/html": [
       "<div>\n",
       "<style scoped>\n",
       "    .dataframe tbody tr th:only-of-type {\n",
       "        vertical-align: middle;\n",
       "    }\n",
       "\n",
       "    .dataframe tbody tr th {\n",
       "        vertical-align: top;\n",
       "    }\n",
       "\n",
       "    .dataframe thead th {\n",
       "        text-align: right;\n",
       "    }\n",
       "</style>\n",
       "<table border=\"1\" class=\"dataframe\">\n",
       "  <thead>\n",
       "    <tr style=\"text-align: right;\">\n",
       "      <th></th>\n",
       "      <th>fCentralityFT0C</th>\n",
       "      <th>fOccupancyFt0c</th>\n",
       "      <th>fPt</th>\n",
       "      <th>fNSigmaTpcPosPi</th>\n",
       "      <th>fNSigmaTpcNegPi</th>\n",
       "      <th>fNSigmaTofPosPi</th>\n",
       "      <th>fNSigmaTofNegPi</th>\n",
       "      <th>fNSigmaTpcPosPi_unc</th>\n",
       "      <th>fNSigmaTpcNegPi_unc</th>\n",
       "      <th>fNSigmaTofPosPi_unc</th>\n",
       "      <th>fNSigmaTofNegPi_unc</th>\n",
       "    </tr>\n",
       "  </thead>\n",
       "  <tbody>\n",
       "    <tr>\n",
       "      <th>1</th>\n",
       "      <td>[0, 50)</td>\n",
       "      <td>[0, 999999)</td>\n",
       "      <td>[1.0, 2.0)</td>\n",
       "      <td>0.062063</td>\n",
       "      <td>0.081077</td>\n",
       "      <td>0.682787</td>\n",
       "      <td>0.682537</td>\n",
       "      <td>0.000118</td>\n",
       "      <td>0.000134</td>\n",
       "      <td>0.000228</td>\n",
       "      <td>0.000228</td>\n",
       "    </tr>\n",
       "  </tbody>\n",
       "</table>\n",
       "</div>"
      ],
      "text/plain": [
       "  fCentralityFT0C fOccupancyFt0c         fPt  fNSigmaTpcPosPi  \\\n",
       "1         [0, 50)    [0, 999999)  [1.0, 2.0)         0.062063   \n",
       "\n",
       "   fNSigmaTpcNegPi  fNSigmaTofPosPi  fNSigmaTofNegPi  fNSigmaTpcPosPi_unc  \\\n",
       "1         0.081077         0.682787         0.682537             0.000118   \n",
       "\n",
       "   fNSigmaTpcNegPi_unc  fNSigmaTofPosPi_unc  fNSigmaTofNegPi_unc  \n",
       "1             0.000134             0.000228             0.000228  "
      ]
     },
     "execution_count": 16,
     "metadata": {},
     "output_type": "execute_result"
    }
   ],
   "source": [
    "df_neg_pi_mc.query('fCentralityFT0C == @pd.Interval(0, 50, closed=\"left\")')"
   ]
  }
 ],
 "metadata": {
  "kernelspec": {
   "display_name": "phys",
   "language": "python",
   "name": "python3"
  },
  "language_info": {
   "codemirror_mode": {
    "name": "ipython",
    "version": 3
   },
   "file_extension": ".py",
   "mimetype": "text/x-python",
   "name": "python",
   "nbconvert_exporter": "python",
   "pygments_lexer": "ipython3",
   "version": "3.12.3"
  }
 },
 "nbformat": 4,
 "nbformat_minor": 2
}
